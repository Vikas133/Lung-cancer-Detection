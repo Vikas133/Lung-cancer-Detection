{
 "cells": [
  {
   "cell_type": "code",
   "execution_count": 1,
   "metadata": {},
   "outputs": [
    {
     "name": "stdout",
     "output_type": "stream",
     "text": [
      "Epoch 1/10\n",
      "17/17 [==============================] - 78s 5s/step - loss: 572.1772 - accuracy: 0.6783 - val_loss: 5.2414 - val_accuracy: 0.4348\n",
      "Epoch 2/10\n",
      "17/17 [==============================] - 76s 4s/step - loss: 0.9878 - accuracy: 0.7093 - val_loss: 0.5824 - val_accuracy: 0.7536\n",
      "Epoch 3/10\n",
      "17/17 [==============================] - 75s 4s/step - loss: 0.3006 - accuracy: 0.9225 - val_loss: 0.3602 - val_accuracy: 0.8986\n",
      "Epoch 4/10\n",
      "17/17 [==============================] - 78s 5s/step - loss: 0.2229 - accuracy: 0.9341 - val_loss: 0.3045 - val_accuracy: 0.9130\n",
      "Epoch 5/10\n",
      "17/17 [==============================] - 80s 5s/step - loss: 0.1692 - accuracy: 0.9496 - val_loss: 0.3539 - val_accuracy: 0.9130\n",
      "Epoch 6/10\n",
      "17/17 [==============================] - 79s 5s/step - loss: 0.2065 - accuracy: 0.9302 - val_loss: 0.3297 - val_accuracy: 0.9130\n",
      "Epoch 7/10\n",
      "17/17 [==============================] - 79s 5s/step - loss: 0.1742 - accuracy: 0.9380 - val_loss: 0.2643 - val_accuracy: 0.9130\n",
      "Epoch 8/10\n",
      "17/17 [==============================] - 79s 5s/step - loss: 0.1601 - accuracy: 0.9341 - val_loss: 0.3352 - val_accuracy: 0.9130\n",
      "Epoch 9/10\n",
      "17/17 [==============================] - 79s 5s/step - loss: 0.1617 - accuracy: 0.9380 - val_loss: 0.2877 - val_accuracy: 0.9130\n",
      "Epoch 10/10\n",
      "17/17 [==============================] - 1189s 74s/step - loss: 0.1707 - accuracy: 0.9341 - val_loss: 0.2279 - val_accuracy: 0.9130\n"
     ]
    }
   ],
   "source": [
    "from tensorflow.keras.preprocessing.image import ImageDataGenerator\n",
    "from tensorflow.keras.layers import AveragePooling2D\n",
    "from tensorflow.keras.layers import Dropout\n",
    "from tensorflow.keras.layers import Flatten\n",
    "from tensorflow.keras.layers import Dense\n",
    "from tensorflow.keras.layers import Input\n",
    "from tensorflow.keras.models import Model\n",
    "from tensorflow.keras.optimizers import Adam\n",
    "from tensorflow.keras.preprocessing.image import img_to_array\n",
    "from tensorflow.keras.preprocessing.image import load_img\n",
    "from tensorflow.keras.utils import to_categorical\n",
    "from sklearn.preprocessing import LabelBinarizer\n",
    "from sklearn.model_selection import train_test_split\n",
    "from sklearn.metrics import classification_report\n",
    "from tensorflow.keras.applications.imagenet_utils import preprocess_input\n",
    "from imutils import paths\n",
    "import matplotlib.pyplot as plt\n",
    "import numpy as np\n",
    "import os\n",
    "\n",
    "\n",
    "DIRECTORY = r'C:\\Users\\vikas\\Desktop\\ML\\Dataset'\n",
    "CATEGORIES = [\"WITHOUT_CANCER\", \"WITH_CANCER\"]\n",
    "\n",
    "\n",
    "data = []\n",
    "labels = []\n",
    "\n",
    "for category in CATEGORIES:\n",
    "    path = os.path.join(DIRECTORY, category)\n",
    "    for img in os.listdir(path):\n",
    "        img_path = os.path.join(path, img)\n",
    "        image = load_img(img_path, target_size=(224, 224))\n",
    "        image = img_to_array(image)\n",
    "        image = preprocess_input(image)\n",
    "        data.append(image)\n",
    "        labels.append(category)\n",
    "        #print(labels)\n",
    "       \n",
    "\n",
    "\n",
    "lb = LabelBinarizer()\n",
    "labels = lb.fit_transform(labels)\n",
    "labels = to_categorical(labels)\n",
    "data = np.array(data,dtype = 'float32')\n",
    "labels = np.array(labels)\n",
    "#print(labels)\n",
    "#print(data)\n",
    "\n",
    "(trainX , testX, trainY, testY) = train_test_split(data, labels,test_size=0.20, stratify=labels, random_state=0)\n",
    "\n",
    "\n",
    "\n",
    "\n",
    "aug = ImageDataGenerator(\n",
    "\trotation_range=20,\n",
    "\tzoom_range=0.15,\n",
    "\twidth_shift_range=0.2,\n",
    "\theight_shift_range=0.2,\n",
    "\tshear_range=0.15,\n",
    "\thorizontal_flip=True,\n",
    "\tfill_mode=\"nearest\")\n",
    "\n",
    "from tensorflow.keras.models import Sequential \n",
    "from tensorflow.keras.layers import Conv2D\n",
    "from tensorflow.keras.layers import MaxPooling2D\n",
    "detector =  Sequential()\n",
    "detector.add(Conv2D(64,(3,3),input_shape = (224,224,3), activation='relu'))\n",
    "detector.add(Conv2D(64,(3,3),activation='relu'))\n",
    "detector.add(MaxPooling2D(pool_size = (2,2)))\n",
    "detector.add(Flatten())\n",
    "detector.add(Dense(units=128,activation='relu'))\n",
    "detector.add(Dense(units=2,activation='softmax'))\n",
    "detector.compile(optimizer='adam',loss='binary_crossentropy',metrics=['accuracy'])\n",
    "\n",
    "H = detector.fit(aug.flow(trainX, trainY,batch_size = 16),steps_per_epoch = len(trainX)//16,validation_data=(testX, testY),validation_steps=len(testX),epochs=10)\n",
    "\n",
    "\n",
    "\n",
    "\n",
    "\n",
    "\n",
    "\n"
   ]
  },
  {
   "cell_type": "code",
   "execution_count": 9,
   "metadata": {},
   "outputs": [
    {
     "name": "stdout",
     "output_type": "stream",
     "text": [
      "INFO:tensorflow:Assets written to: C:\\Users\\vikas\\Desktop\\ML\\LCD1\\assets\n"
     ]
    }
   ],
   "source": [
    "# detector.save(r'C:\\Users\\vikas\\Desktop\\ML\\LCD1')"
   ]
  },
  {
   "cell_type": "code",
   "execution_count": 2,
   "metadata": {},
   "outputs": [
    {
     "name": "stdout",
     "output_type": "stream",
     "text": [
      "                precision    recall  f1-score   support\n",
      "\n",
      "WITHOUT_CANCER       0.83      1.00      0.91        30\n",
      "   WITH_CANCER       1.00      0.85      0.92        39\n",
      "\n",
      "      accuracy                           0.91        69\n",
      "     macro avg       0.92      0.92      0.91        69\n",
      "  weighted avg       0.93      0.91      0.91        69\n",
      "\n"
     ]
    },
    {
     "data": {
      "image/png": "[encoded data removed]",
      "text/plain": [
       "<Figure size 432x288 with 1 Axes>"
      ]
     },
     "metadata": {},
     "output_type": "display_data"
    }
   ],
   "source": [
    "plt.style.use(\"ggplot\")\n",
    "plt.figure()\n",
    "plt.plot(np.arange(0, 10), H.history[\"accuracy\"], label=\"train_acc\")\n",
    "plt.plot(np.arange(0, 10), H.history[\"val_accuracy\"], label=\"val_acc\")\n",
    "plt.title(\"Training Accuracy\")\n",
    "plt.xlabel(\"Epoch #\")\n",
    "plt.ylabel(\"Accuracy\")\n",
    "plt.legend(loc=\"upper right\")\n",
    "\n",
    "predIdxs = detector.predict(testX, batch_size=16)\n",
    "predIdxs = np.argmax(predIdxs, axis=1)\n",
    "print(classification_report(testY.argmax(axis=1), predIdxs,target_names=lb.classes_))"
   ]
  },
  {
   "cell_type": "code",
   "execution_count": null,
   "metadata": {},
   "outputs": [],
   "source": []
  }
 ],
 "metadata": {
  "kernelspec": {
   "display_name": "Python 3",
   "language": "python",
   "name": "python3"
  },
  "language_info": {
   "codemirror_mode": {
    "name": "ipython",
    "version": 3
   },
   "file_extension": ".py",
   "mimetype": "text/x-python",
   "name": "python",
   "nbconvert_exporter": "python",
   "pygments_lexer": "ipython3",
   "version": "3.8.5"
  }
 },
 "nbformat": 4,
 "nbformat_minor": 4
}
